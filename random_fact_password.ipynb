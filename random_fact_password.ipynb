{
  "nbformat": 4,
  "nbformat_minor": 0,
  "metadata": {
    "colab": {
      "name": "random_fact/password.ipynb",
      "provenance": [],
      "collapsed_sections": [],
      "authorship_tag": "ABX9TyMmLSswhrX3TjLefLP6t7AJ",
      "include_colab_link": true
    },
    "kernelspec": {
      "name": "python3",
      "display_name": "Python 3"
    }
  },
  "cells": [
    {
      "cell_type": "markdown",
      "metadata": {
        "id": "view-in-github",
        "colab_type": "text"
      },
      "source": [
        "<a href=\"https://colab.research.google.com/github/Umakantamaharana/random_facts-passwords/blob/master/random_fact_password.ipynb\" target=\"_parent\"><img src=\"https://colab.research.google.com/assets/colab-badge.svg\" alt=\"Open In Colab\"/></a>"
      ]
    },
    {
      "cell_type": "code",
      "metadata": {
        "id": "2vQSh7AImf7a",
        "colab_type": "code",
        "colab": {
          "base_uri": "https://localhost:8080/",
          "height": 85
        },
        "outputId": "ded3134f-cd78-4015-e944-22004593b69e"
      },
      "source": [
        "import randfacts,random,string\n",
        "def choose(num):\n",
        "    todo = { 1 : \"The fact is : \" + randfacts.getFact(), 2 : 'The password is : '+''.join((random.choice(string.ascii_letters+string.digits) for i in range (8)))}\n",
        "    print(todo.get(num,\"Choose \\\"1\\\" or \\\"2\\\"\",))\n",
        "choose(int(input(\"Choose to print a [1] random fact \\n \\t \\t  [2] random password  \\n>>> \")))"
      ],
      "execution_count": null,
      "outputs": [
        {
          "output_type": "stream",
          "text": [
            "Choose to print a [1] random fact \n",
            " \t \t  [2] random password  \n",
            ">>> 1\n",
            "The fact is : 51% of Americans fear snakes, most than any other thing in the world\n"
          ],
          "name": "stdout"
        }
      ]
    }
  ]
}